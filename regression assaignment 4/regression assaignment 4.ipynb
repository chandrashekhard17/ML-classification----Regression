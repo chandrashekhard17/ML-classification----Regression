{
 "cells": [
  {
   "cell_type": "markdown",
   "id": "84f7c9ab",
   "metadata": {},
   "source": [
    "### Q1. **What is Lasso Regression, and how does it differ from other regression techniques?**\n",
    "\n",
    "Lasso Regression (Least Absolute Shrinkage and Selection Operator) is a linear regression technique that adds an L1 regularization penalty to the cost function. Unlike OLS and Ridge Regression, Lasso forces some coefficients to be exactly zero, making it suitable for feature selection. It is particularly useful when there are many features, some of which may be irrelevant.\n",
    "\n",
    "### Q2. **What is the main advantage of using Lasso Regression in feature selection?**\n",
    "\n",
    "The main advantage is that Lasso can shrink some coefficients to zero, effectively eliminating irrelevant features. This makes Lasso useful for automatic feature selection, reducing model complexity and potentially improving interpretability and prediction performance.\n",
    "\n",
    "### Q3. **How do you interpret the coefficients of a Lasso Regression model?**\n",
    "\n",
    "The non-zero coefficients in a Lasso Regression model indicate the features that contribute to the target variable. If a coefficient is zero, the corresponding feature is not considered in the final model. The magnitude of non-zero coefficients represents the strength and direction of the relationship between the feature and the target, though the L1 penalty shrinks them.\n",
    "\n",
    "### Q4. **What are the tuning parameters that can be adjusted in Lasso Regression, and how do they affect the model's performance?**\n",
    "\n",
    "The primary tuning parameter is lambda (α), which controls the strength of the L1 regularization. A larger lambda increases the penalty, shrinking more coefficients to zero and selecting fewer features. A smaller lambda makes the model more similar to OLS, with less regularization. The optimal lambda is typically chosen via cross-validation.\n",
    "\n",
    "### Q5. **Can Lasso Regression be used for non-linear regression problems? If yes, how?**\n",
    "\n",
    "Lasso itself is a linear regression technique. However, it can be used for non-linear problems if you first transform the input features using techniques like polynomial features or basis expansions. Lasso can then perform feature selection on these transformed features.\n",
    "\n",
    "### Q6. **What is the difference between Ridge Regression and Lasso Regression?**\n",
    "\n",
    "- **Penalty**: Ridge uses L2 regularization (squared magnitude of coefficients), while Lasso uses L1 regularization (absolute magnitude of coefficients).\n",
    "- **Feature Selection**: Lasso can shrink some coefficients to zero, effectively performing feature selection. Ridge shrinks coefficients but does not eliminate them.\n",
    "- **Bias-Variance Tradeoff**: Ridge tends to work better when all features are relevant, while Lasso is more effective when many features are irrelevant.\n",
    "\n",
    "### Q7. **Can Lasso Regression handle multicollinearity in the input features? If yes, how?**\n",
    "\n",
    "Yes, Lasso can handle multicollinearity by forcing one or more of the highly correlated features to have zero coefficients, effectively selecting a subset of features. However, it may struggle to select the best features consistently when multicollinearity is high. In such cases, Elastic Net (a combination of Lasso and Ridge) might be more suitable.\n",
    "\n",
    "### Q8. **How do you choose the optimal value of the regularization parameter (lambda) in Lasso Regression?**\n",
    "\n",
    "The optimal value of lambda is typically chosen through cross-validation. By testing different values of lambda and evaluating the model’s performance on a validation set, the lambda that minimizes prediction error or other evaluation metrics is selected."
   ]
  },
  {
   "cell_type": "code",
   "execution_count": null,
   "id": "0560bdf5",
   "metadata": {},
   "outputs": [],
   "source": []
  }
 ],
 "metadata": {
  "kernelspec": {
   "display_name": "Python 3 (ipykernel)",
   "language": "python",
   "name": "python3"
  },
  "language_info": {
   "codemirror_mode": {
    "name": "ipython",
    "version": 3
   },
   "file_extension": ".py",
   "mimetype": "text/x-python",
   "name": "python",
   "nbconvert_exporter": "python",
   "pygments_lexer": "ipython3",
   "version": "3.10.9"
  }
 },
 "nbformat": 4,
 "nbformat_minor": 5
}
